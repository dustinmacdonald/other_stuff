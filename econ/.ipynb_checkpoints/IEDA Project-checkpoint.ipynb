{
 "cells": [
  {
   "cell_type": "markdown",
   "id": "3086a208",
   "metadata": {},
   "source": [
    "# Economic Development Project"
   ]
  },
  {
   "cell_type": "markdown",
   "id": "dfe20e93",
   "metadata": {},
   "source": [
    "Preamble: The purpose of this project is to develop a machine learning model that can identify the factors that contribute to the success or failure of economic development projects in Iowa. Once the model is developed, it will be tested for accuracy and interventions developed to increase project success."
   ]
  },
  {
   "cell_type": "code",
   "execution_count": 1,
   "id": "3ca60970",
   "metadata": {},
   "outputs": [],
   "source": [
    "### Economic Development Capstone\n",
    "\n",
    "import numpy as np\n",
    "import pandas as pd\n",
    "import matplotlib.pyplot as plt\n",
    "import matplotlib.ticker as mticker\n",
    "import hashlib\n",
    "from sklearn.model_selection import train_test_split\n",
    "import scipy.stats as stats\n",
    "import statistics\n",
    "\n",
    "%matplotlib inline\n",
    "\n",
    "pd.options.display.float_format = '{:.2f}'.format #Stop displaying scientific notation"
   ]
  },
  {
   "cell_type": "markdown",
   "id": "c8c54439",
   "metadata": {},
   "source": [
    "### Load Data:"
   ]
  },
  {
   "cell_type": "code",
   "execution_count": 2,
   "id": "84000fdd",
   "metadata": {},
   "outputs": [],
   "source": [
    "df_suc = pd.read_csv(\"edp_closed.csv\") #Closed projects\n",
    "df_can = pd.read_csv(\"edp_cancelled.csv\") #Cancelled projects\n",
    "df_wip = pd.read_csv(\"edp_under_contract.csv\") #Projects in progress"
   ]
  },
  {
   "cell_type": "markdown",
   "id": "3ce728db",
   "metadata": {},
   "source": [
    "### Visualize Columns:"
   ]
  },
  {
   "cell_type": "markdown",
   "id": "310fa708",
   "metadata": {},
   "source": [
    "#### Succesful Projects"
   ]
  },
  {
   "cell_type": "code",
   "execution_count": 3,
   "id": "6e133f72",
   "metadata": {},
   "outputs": [
    {
     "data": {
      "text/html": [
       "<div>\n",
       "<style scoped>\n",
       "    .dataframe tbody tr th:only-of-type {\n",
       "        vertical-align: middle;\n",
       "    }\n",
       "\n",
       "    .dataframe tbody tr th {\n",
       "        vertical-align: top;\n",
       "    }\n",
       "\n",
       "    .dataframe thead th {\n",
       "        text-align: right;\n",
       "    }\n",
       "</style>\n",
       "<table border=\"1\" class=\"dataframe\">\n",
       "  <thead>\n",
       "    <tr style=\"text-align: right;\">\n",
       "      <th></th>\n",
       "      <th>Company Name</th>\n",
       "      <th>County</th>\n",
       "      <th>City</th>\n",
       "      <th>Status</th>\n",
       "      <th>Program</th>\n",
       "      <th>Primary Funding Agreement</th>\n",
       "      <th>Award Date</th>\n",
       "      <th>Total Project Cost</th>\n",
       "      <th>Capital Investment</th>\n",
       "      <th>Direct Assistance Awarded</th>\n",
       "      <th>...</th>\n",
       "      <th>Contracted Jobs - Total</th>\n",
       "      <th>Contracted Qualifying Wage</th>\n",
       "      <th>Verified Total Project Cost</th>\n",
       "      <th>Project Completion Date</th>\n",
       "      <th>Final Jobs - Created</th>\n",
       "      <th>Final Jobs - Retained</th>\n",
       "      <th>Final Jobs - Other Created</th>\n",
       "      <th>Final Jobs - Total</th>\n",
       "      <th>Project Maintenance Date</th>\n",
       "      <th>City Coordinates</th>\n",
       "    </tr>\n",
       "  </thead>\n",
       "  <tbody>\n",
       "    <tr>\n",
       "      <th>0</th>\n",
       "      <td>DHI Group Inc. (f/k/a Dice Career Solutions, I...</td>\n",
       "      <td>Polk</td>\n",
       "      <td>Urbandale</td>\n",
       "      <td>Closed Contracts - Successful</td>\n",
       "      <td>130% Component</td>\n",
       "      <td>11-130-015</td>\n",
       "      <td>11/18/2010</td>\n",
       "      <td>1750000</td>\n",
       "      <td>1750000</td>\n",
       "      <td>225000</td>\n",
       "      <td>...</td>\n",
       "      <td>106</td>\n",
       "      <td>23.20</td>\n",
       "      <td>5127664.00</td>\n",
       "      <td>11/30/2013</td>\n",
       "      <td>16</td>\n",
       "      <td>90</td>\n",
       "      <td>0</td>\n",
       "      <td>106</td>\n",
       "      <td>11/30/2015</td>\n",
       "      <td>POINT (-93.736522 41.630343)</td>\n",
       "    </tr>\n",
       "    <tr>\n",
       "      <th>1</th>\n",
       "      <td>Wacker Chemical Corporation</td>\n",
       "      <td>Monroe</td>\n",
       "      <td>Eddyville</td>\n",
       "      <td>Closed Contracts - Successful</td>\n",
       "      <td>130% Component</td>\n",
       "      <td>12-130-012</td>\n",
       "      <td>11/18/2011</td>\n",
       "      <td>7706860</td>\n",
       "      <td>7706860</td>\n",
       "      <td>150000</td>\n",
       "      <td>...</td>\n",
       "      <td>16</td>\n",
       "      <td>21.36</td>\n",
       "      <td>7746970.00</td>\n",
       "      <td>11/30/2014</td>\n",
       "      <td>3</td>\n",
       "      <td>13</td>\n",
       "      <td>0</td>\n",
       "      <td>16</td>\n",
       "      <td>11/30/2016</td>\n",
       "      <td>POINT (-92.630188 41.158178)</td>\n",
       "    </tr>\n",
       "    <tr>\n",
       "      <th>2</th>\n",
       "      <td>Environmental Lubricants Manufacturing, Inc.</td>\n",
       "      <td>Grundy</td>\n",
       "      <td>Grundy Center</td>\n",
       "      <td>Closed Contracts - Full</td>\n",
       "      <td>Value-Added Agriculture Component</td>\n",
       "      <td>11-VAAC-013</td>\n",
       "      <td>05/19/2011</td>\n",
       "      <td>415000</td>\n",
       "      <td>415000</td>\n",
       "      <td>60000</td>\n",
       "      <td>...</td>\n",
       "      <td>0</td>\n",
       "      <td>0.00</td>\n",
       "      <td>0.00</td>\n",
       "      <td>06/30/2017</td>\n",
       "      <td>0</td>\n",
       "      <td>0</td>\n",
       "      <td>0</td>\n",
       "      <td>0</td>\n",
       "      <td>06/30/2019</td>\n",
       "      <td>POINT (-92.768301 42.361475)</td>\n",
       "    </tr>\n",
       "    <tr>\n",
       "      <th>3</th>\n",
       "      <td>McKesson Corporation</td>\n",
       "      <td>Cerro Gordo</td>\n",
       "      <td>Clear Lake</td>\n",
       "      <td>Closed Contracts - Successful</td>\n",
       "      <td>High Quality Jobs Program</td>\n",
       "      <td>15-HQJDF-034</td>\n",
       "      <td>02/20/2015</td>\n",
       "      <td>65242000</td>\n",
       "      <td>65242000</td>\n",
       "      <td>170000</td>\n",
       "      <td>...</td>\n",
       "      <td>164</td>\n",
       "      <td>14.79</td>\n",
       "      <td>70955084.00</td>\n",
       "      <td>02/28/2018</td>\n",
       "      <td>164</td>\n",
       "      <td>0</td>\n",
       "      <td>0</td>\n",
       "      <td>164</td>\n",
       "      <td>02/28/2020</td>\n",
       "      <td>POINT (-93.378746 43.137357)</td>\n",
       "    </tr>\n",
       "    <tr>\n",
       "      <th>4</th>\n",
       "      <td>Peregrine Financial Group, Inc.</td>\n",
       "      <td>Black Hawk</td>\n",
       "      <td>Cedar Falls</td>\n",
       "      <td>Bankruptcy</td>\n",
       "      <td>Community Economic Betterment Account</td>\n",
       "      <td>07-CEBA-044</td>\n",
       "      <td>06/13/2007</td>\n",
       "      <td>13030000</td>\n",
       "      <td>11650000</td>\n",
       "      <td>350000</td>\n",
       "      <td>...</td>\n",
       "      <td>90</td>\n",
       "      <td>21.38</td>\n",
       "      <td>0.00</td>\n",
       "      <td>06/30/2010</td>\n",
       "      <td>0</td>\n",
       "      <td>0</td>\n",
       "      <td>0</td>\n",
       "      <td>0</td>\n",
       "      <td>06/30/2012</td>\n",
       "      <td>POINT (-92.4534 42.537809)</td>\n",
       "    </tr>\n",
       "  </tbody>\n",
       "</table>\n",
       "<p>5 rows × 29 columns</p>\n",
       "</div>"
      ],
      "text/plain": [
       "                                        Company Name       County  \\\n",
       "0  DHI Group Inc. (f/k/a Dice Career Solutions, I...         Polk   \n",
       "1                        Wacker Chemical Corporation       Monroe   \n",
       "2       Environmental Lubricants Manufacturing, Inc.       Grundy   \n",
       "3                               McKesson Corporation  Cerro Gordo   \n",
       "4                    Peregrine Financial Group, Inc.   Black Hawk   \n",
       "\n",
       "            City                         Status  \\\n",
       "0      Urbandale  Closed Contracts - Successful   \n",
       "1      Eddyville  Closed Contracts - Successful   \n",
       "2  Grundy Center        Closed Contracts - Full   \n",
       "3     Clear Lake  Closed Contracts - Successful   \n",
       "4    Cedar Falls                     Bankruptcy   \n",
       "\n",
       "                                 Program Primary Funding Agreement  \\\n",
       "0                         130% Component                11-130-015   \n",
       "1                         130% Component                12-130-012   \n",
       "2      Value-Added Agriculture Component               11-VAAC-013   \n",
       "3              High Quality Jobs Program              15-HQJDF-034   \n",
       "4  Community Economic Betterment Account               07-CEBA-044   \n",
       "\n",
       "   Award Date  Total Project Cost  Capital Investment  \\\n",
       "0  11/18/2010             1750000             1750000   \n",
       "1  11/18/2011             7706860             7706860   \n",
       "2  05/19/2011              415000              415000   \n",
       "3  02/20/2015            65242000            65242000   \n",
       "4  06/13/2007            13030000            11650000   \n",
       "\n",
       "   Direct Assistance Awarded  ...  Contracted Jobs - Total  \\\n",
       "0                     225000  ...                      106   \n",
       "1                     150000  ...                       16   \n",
       "2                      60000  ...                        0   \n",
       "3                     170000  ...                      164   \n",
       "4                     350000  ...                       90   \n",
       "\n",
       "   Contracted Qualifying Wage  Verified Total Project Cost  \\\n",
       "0                       23.20                   5127664.00   \n",
       "1                       21.36                   7746970.00   \n",
       "2                        0.00                         0.00   \n",
       "3                       14.79                  70955084.00   \n",
       "4                       21.38                         0.00   \n",
       "\n",
       "   Project Completion Date  Final Jobs - Created  Final Jobs - Retained  \\\n",
       "0               11/30/2013                    16                     90   \n",
       "1               11/30/2014                     3                     13   \n",
       "2               06/30/2017                     0                      0   \n",
       "3               02/28/2018                   164                      0   \n",
       "4               06/30/2010                     0                      0   \n",
       "\n",
       "   Final Jobs - Other Created  Final Jobs - Total  Project Maintenance Date  \\\n",
       "0                           0                 106                11/30/2015   \n",
       "1                           0                  16                11/30/2016   \n",
       "2                           0                   0                06/30/2019   \n",
       "3                           0                 164                02/28/2020   \n",
       "4                           0                   0                06/30/2012   \n",
       "\n",
       "               City Coordinates  \n",
       "0  POINT (-93.736522 41.630343)  \n",
       "1  POINT (-92.630188 41.158178)  \n",
       "2  POINT (-92.768301 42.361475)  \n",
       "3  POINT (-93.378746 43.137357)  \n",
       "4    POINT (-92.4534 42.537809)  \n",
       "\n",
       "[5 rows x 29 columns]"
      ]
     },
     "execution_count": 3,
     "metadata": {},
     "output_type": "execute_result"
    }
   ],
   "source": [
    "df_suc.head()"
   ]
  },
  {
   "cell_type": "markdown",
   "id": "7c8d9fc2",
   "metadata": {},
   "source": [
    "#### Cancelled Projects"
   ]
  },
  {
   "cell_type": "code",
   "execution_count": 4,
   "id": "a7406dbe",
   "metadata": {},
   "outputs": [
    {
     "data": {
      "text/html": [
       "<div>\n",
       "<style scoped>\n",
       "    .dataframe tbody tr th:only-of-type {\n",
       "        vertical-align: middle;\n",
       "    }\n",
       "\n",
       "    .dataframe tbody tr th {\n",
       "        vertical-align: top;\n",
       "    }\n",
       "\n",
       "    .dataframe thead th {\n",
       "        text-align: right;\n",
       "    }\n",
       "</style>\n",
       "<table border=\"1\" class=\"dataframe\">\n",
       "  <thead>\n",
       "    <tr style=\"text-align: right;\">\n",
       "      <th></th>\n",
       "      <th>Company Name</th>\n",
       "      <th>County</th>\n",
       "      <th>City</th>\n",
       "      <th>Status</th>\n",
       "      <th>Program</th>\n",
       "      <th>Primary Funding Agreement</th>\n",
       "      <th>Award Date</th>\n",
       "      <th>Total Project Cost</th>\n",
       "      <th>Capital Investment</th>\n",
       "      <th>Direct Assistance Awarded</th>\n",
       "      <th>...</th>\n",
       "      <th>Projected Jobs - Retained</th>\n",
       "      <th>Projected Jobs - Other</th>\n",
       "      <th>Projected Jobs - Total</th>\n",
       "      <th>Projected Qualifying Wage</th>\n",
       "      <th>Contracted Jobs - Created</th>\n",
       "      <th>Contracted Jobs - Retained</th>\n",
       "      <th>Contracted Jobs - Other Created</th>\n",
       "      <th>Contracted Jobs - Total</th>\n",
       "      <th>Contracted Qualifying Wage</th>\n",
       "      <th>City Coordinates</th>\n",
       "    </tr>\n",
       "  </thead>\n",
       "  <tbody>\n",
       "    <tr>\n",
       "      <th>0</th>\n",
       "      <td>Solum, Inc.</td>\n",
       "      <td>Story</td>\n",
       "      <td>Ames</td>\n",
       "      <td>Contract Terminated</td>\n",
       "      <td>130% Component</td>\n",
       "      <td>12-130-036</td>\n",
       "      <td>06/22/2012</td>\n",
       "      <td>4940000</td>\n",
       "      <td>2140000</td>\n",
       "      <td>100000</td>\n",
       "      <td>...</td>\n",
       "      <td>0</td>\n",
       "      <td>0</td>\n",
       "      <td>25</td>\n",
       "      <td>21.25</td>\n",
       "      <td>25</td>\n",
       "      <td>0</td>\n",
       "      <td>0</td>\n",
       "      <td>25</td>\n",
       "      <td>21.25</td>\n",
       "      <td>POINT (-93.620181 42.026802)</td>\n",
       "    </tr>\n",
       "    <tr>\n",
       "      <th>1</th>\n",
       "      <td>Tactical 8 Technologies LLC</td>\n",
       "      <td>Black Hawk</td>\n",
       "      <td>Cedar Falls</td>\n",
       "      <td>Contract Terminated</td>\n",
       "      <td>100% Component</td>\n",
       "      <td>12-100-008</td>\n",
       "      <td>02/17/2012</td>\n",
       "      <td>435000</td>\n",
       "      <td>75000</td>\n",
       "      <td>45000</td>\n",
       "      <td>...</td>\n",
       "      <td>0</td>\n",
       "      <td>0</td>\n",
       "      <td>15</td>\n",
       "      <td>16.18</td>\n",
       "      <td>15</td>\n",
       "      <td>0</td>\n",
       "      <td>0</td>\n",
       "      <td>15</td>\n",
       "      <td>16.18</td>\n",
       "      <td>POINT (-92.4534 42.537809)</td>\n",
       "    </tr>\n",
       "    <tr>\n",
       "      <th>2</th>\n",
       "      <td>Ralcorp Holdings, Inc.</td>\n",
       "      <td>Linn</td>\n",
       "      <td>Cedar Rapids</td>\n",
       "      <td>Contract Terminated</td>\n",
       "      <td>High Quality Jobs Program</td>\n",
       "      <td>15-HQJTC-062</td>\n",
       "      <td>06/19/2015</td>\n",
       "      <td>10000000</td>\n",
       "      <td>10000000</td>\n",
       "      <td>0</td>\n",
       "      <td>...</td>\n",
       "      <td>33</td>\n",
       "      <td>0</td>\n",
       "      <td>33</td>\n",
       "      <td>23.45</td>\n",
       "      <td>0</td>\n",
       "      <td>33</td>\n",
       "      <td>0</td>\n",
       "      <td>0</td>\n",
       "      <td>23.45</td>\n",
       "      <td>POINT (-91.669808 41.978122)</td>\n",
       "    </tr>\n",
       "    <tr>\n",
       "      <th>3</th>\n",
       "      <td>Siemens Power Generation, Inc.</td>\n",
       "      <td>Lee</td>\n",
       "      <td>Fort Madison</td>\n",
       "      <td>Declined or Rescinded</td>\n",
       "      <td>100% Component</td>\n",
       "      <td>11-100-002</td>\n",
       "      <td>07/15/2010</td>\n",
       "      <td>1350000</td>\n",
       "      <td>0</td>\n",
       "      <td>180000</td>\n",
       "      <td>...</td>\n",
       "      <td>0</td>\n",
       "      <td>0</td>\n",
       "      <td>16</td>\n",
       "      <td>15.63</td>\n",
       "      <td>16</td>\n",
       "      <td>0</td>\n",
       "      <td>0</td>\n",
       "      <td>16</td>\n",
       "      <td>15.63</td>\n",
       "      <td>POINT (-91.313494 40.630024)</td>\n",
       "    </tr>\n",
       "    <tr>\n",
       "      <th>4</th>\n",
       "      <td>Hagie Manufacturing Company</td>\n",
       "      <td>Wright</td>\n",
       "      <td>Clarion</td>\n",
       "      <td>Contract Terminated</td>\n",
       "      <td>High Quality Jobs Program</td>\n",
       "      <td>13-HQJDF-036</td>\n",
       "      <td>04/23/2013</td>\n",
       "      <td>22000000</td>\n",
       "      <td>19500000</td>\n",
       "      <td>850000</td>\n",
       "      <td>...</td>\n",
       "      <td>0</td>\n",
       "      <td>0</td>\n",
       "      <td>150</td>\n",
       "      <td>14.55</td>\n",
       "      <td>150</td>\n",
       "      <td>0</td>\n",
       "      <td>0</td>\n",
       "      <td>150</td>\n",
       "      <td>14.55</td>\n",
       "      <td>POINT (-93.732826 42.730761)</td>\n",
       "    </tr>\n",
       "  </tbody>\n",
       "</table>\n",
       "<p>5 rows × 22 columns</p>\n",
       "</div>"
      ],
      "text/plain": [
       "                     Company Name      County          City  \\\n",
       "0                     Solum, Inc.       Story          Ames   \n",
       "1     Tactical 8 Technologies LLC  Black Hawk   Cedar Falls   \n",
       "2          Ralcorp Holdings, Inc.        Linn  Cedar Rapids   \n",
       "3  Siemens Power Generation, Inc.         Lee  Fort Madison   \n",
       "4     Hagie Manufacturing Company      Wright       Clarion   \n",
       "\n",
       "                  Status                    Program Primary Funding Agreement  \\\n",
       "0    Contract Terminated             130% Component                12-130-036   \n",
       "1    Contract Terminated             100% Component                12-100-008   \n",
       "2    Contract Terminated  High Quality Jobs Program              15-HQJTC-062   \n",
       "3  Declined or Rescinded             100% Component                11-100-002   \n",
       "4    Contract Terminated  High Quality Jobs Program              13-HQJDF-036   \n",
       "\n",
       "   Award Date  Total Project Cost  Capital Investment  \\\n",
       "0  06/22/2012             4940000             2140000   \n",
       "1  02/17/2012              435000               75000   \n",
       "2  06/19/2015            10000000            10000000   \n",
       "3  07/15/2010             1350000                   0   \n",
       "4  04/23/2013            22000000            19500000   \n",
       "\n",
       "   Direct Assistance Awarded  ...  Projected Jobs - Retained  \\\n",
       "0                     100000  ...                          0   \n",
       "1                      45000  ...                          0   \n",
       "2                          0  ...                         33   \n",
       "3                     180000  ...                          0   \n",
       "4                     850000  ...                          0   \n",
       "\n",
       "   Projected Jobs - Other  Projected Jobs - Total  Projected Qualifying Wage  \\\n",
       "0                       0                      25                      21.25   \n",
       "1                       0                      15                      16.18   \n",
       "2                       0                      33                      23.45   \n",
       "3                       0                      16                      15.63   \n",
       "4                       0                     150                      14.55   \n",
       "\n",
       "   Contracted Jobs - Created  Contracted Jobs - Retained  \\\n",
       "0                         25                           0   \n",
       "1                         15                           0   \n",
       "2                          0                          33   \n",
       "3                         16                           0   \n",
       "4                        150                           0   \n",
       "\n",
       "   Contracted Jobs - Other Created  Contracted Jobs - Total  \\\n",
       "0                                0                       25   \n",
       "1                                0                       15   \n",
       "2                                0                        0   \n",
       "3                                0                       16   \n",
       "4                                0                      150   \n",
       "\n",
       "   Contracted Qualifying Wage              City Coordinates  \n",
       "0                       21.25  POINT (-93.620181 42.026802)  \n",
       "1                       16.18    POINT (-92.4534 42.537809)  \n",
       "2                       23.45  POINT (-91.669808 41.978122)  \n",
       "3                       15.63  POINT (-91.313494 40.630024)  \n",
       "4                       14.55  POINT (-93.732826 42.730761)  \n",
       "\n",
       "[5 rows x 22 columns]"
      ]
     },
     "execution_count": 4,
     "metadata": {},
     "output_type": "execute_result"
    }
   ],
   "source": [
    "df_can.head()"
   ]
  },
  {
   "cell_type": "markdown",
   "id": "9f9ded17",
   "metadata": {},
   "source": [
    "#### In-Progress Projects"
   ]
  },
  {
   "cell_type": "code",
   "execution_count": 5,
   "id": "091ffd8b",
   "metadata": {},
   "outputs": [
    {
     "data": {
      "text/html": [
       "<div>\n",
       "<style scoped>\n",
       "    .dataframe tbody tr th:only-of-type {\n",
       "        vertical-align: middle;\n",
       "    }\n",
       "\n",
       "    .dataframe tbody tr th {\n",
       "        vertical-align: top;\n",
       "    }\n",
       "\n",
       "    .dataframe thead th {\n",
       "        text-align: right;\n",
       "    }\n",
       "</style>\n",
       "<table border=\"1\" class=\"dataframe\">\n",
       "  <thead>\n",
       "    <tr style=\"text-align: right;\">\n",
       "      <th></th>\n",
       "      <th>Company Name</th>\n",
       "      <th>County</th>\n",
       "      <th>City</th>\n",
       "      <th>Status</th>\n",
       "      <th>Program</th>\n",
       "      <th>Primary Funding Agreement</th>\n",
       "      <th>Award Date</th>\n",
       "      <th>Total Project Cost</th>\n",
       "      <th>Capital Investment</th>\n",
       "      <th>Direct Assistance Awarded</th>\n",
       "      <th>...</th>\n",
       "      <th>Project Completion Jobs - Total</th>\n",
       "      <th>Verified Total Project Cost</th>\n",
       "      <th>Project Completion Date</th>\n",
       "      <th>Reported Jobs - Created</th>\n",
       "      <th>Reported Jobs - Retained</th>\n",
       "      <th>Reported Jobs - Other Created</th>\n",
       "      <th>Reported Jobs - Total</th>\n",
       "      <th>Date Reported</th>\n",
       "      <th>Project Maintenance Date</th>\n",
       "      <th>City Coordinates</th>\n",
       "    </tr>\n",
       "  </thead>\n",
       "  <tbody>\n",
       "    <tr>\n",
       "      <th>0</th>\n",
       "      <td>Siculus, Inc.</td>\n",
       "      <td>Polk</td>\n",
       "      <td>Altoona</td>\n",
       "      <td>Performance Period</td>\n",
       "      <td>High Quality Jobs Program</td>\n",
       "      <td>19-HQJTC-025</td>\n",
       "      <td>05/17/2019</td>\n",
       "      <td>400000000</td>\n",
       "      <td>400000000</td>\n",
       "      <td>0</td>\n",
       "      <td>...</td>\n",
       "      <td>0</td>\n",
       "      <td>0.00</td>\n",
       "      <td>05/31/2022</td>\n",
       "      <td>0</td>\n",
       "      <td>0</td>\n",
       "      <td>0</td>\n",
       "      <td>0</td>\n",
       "      <td>06/30/2020</td>\n",
       "      <td>05/31/2024</td>\n",
       "      <td>POINT (-93.464609 41.64404)</td>\n",
       "    </tr>\n",
       "    <tr>\n",
       "      <th>1</th>\n",
       "      <td>INTL FCStone Inc.</td>\n",
       "      <td>Polk</td>\n",
       "      <td>West Des Moines</td>\n",
       "      <td>Maintenance Period</td>\n",
       "      <td>High Quality Jobs Program</td>\n",
       "      <td>16-HQJDF-027</td>\n",
       "      <td>12/18/2015</td>\n",
       "      <td>3000000</td>\n",
       "      <td>1400000</td>\n",
       "      <td>200000</td>\n",
       "      <td>...</td>\n",
       "      <td>26</td>\n",
       "      <td>19423489.00</td>\n",
       "      <td>12/31/2018</td>\n",
       "      <td>0</td>\n",
       "      <td>0</td>\n",
       "      <td>0</td>\n",
       "      <td>0</td>\n",
       "      <td>06/30/2020</td>\n",
       "      <td>12/31/2020</td>\n",
       "      <td>POINT (-93.713031 41.575505)</td>\n",
       "    </tr>\n",
       "    <tr>\n",
       "      <th>2</th>\n",
       "      <td>GELITA USA Inc.</td>\n",
       "      <td>Woodbury</td>\n",
       "      <td>Sergeant Bluff</td>\n",
       "      <td>Performance Period</td>\n",
       "      <td>High Quality Jobs Program</td>\n",
       "      <td>17-HQJDF-023</td>\n",
       "      <td>11/18/2016</td>\n",
       "      <td>22095000</td>\n",
       "      <td>22065000</td>\n",
       "      <td>105000</td>\n",
       "      <td>...</td>\n",
       "      <td>0</td>\n",
       "      <td>0.00</td>\n",
       "      <td>11/30/2019</td>\n",
       "      <td>0</td>\n",
       "      <td>0</td>\n",
       "      <td>0</td>\n",
       "      <td>0</td>\n",
       "      <td>06/30/2020</td>\n",
       "      <td>11/30/2021</td>\n",
       "      <td>POINT (-96.363068 42.400299)</td>\n",
       "    </tr>\n",
       "    <tr>\n",
       "      <th>3</th>\n",
       "      <td>Express Logistics, Inc.</td>\n",
       "      <td>Dallas</td>\n",
       "      <td>Waukee</td>\n",
       "      <td>Performance Period</td>\n",
       "      <td>High Quality Jobs Program</td>\n",
       "      <td>15-HQJDF-004</td>\n",
       "      <td>08/22/2014</td>\n",
       "      <td>1158300</td>\n",
       "      <td>1128300</td>\n",
       "      <td>130000</td>\n",
       "      <td>...</td>\n",
       "      <td>0</td>\n",
       "      <td>0.00</td>\n",
       "      <td>11/30/2019</td>\n",
       "      <td>0</td>\n",
       "      <td>0</td>\n",
       "      <td>0</td>\n",
       "      <td>0</td>\n",
       "      <td>06/30/2020</td>\n",
       "      <td>11/30/2021</td>\n",
       "      <td>POINT (-93.885632 41.611984)</td>\n",
       "    </tr>\n",
       "    <tr>\n",
       "      <th>4</th>\n",
       "      <td>Worley Warehousing, Inc.</td>\n",
       "      <td>Linn</td>\n",
       "      <td>Cedar Rapids</td>\n",
       "      <td>Performance Period</td>\n",
       "      <td>High Quality Jobs Program</td>\n",
       "      <td>20-HQJTC-011</td>\n",
       "      <td>11/22/2019</td>\n",
       "      <td>8339000</td>\n",
       "      <td>3850000</td>\n",
       "      <td>0</td>\n",
       "      <td>...</td>\n",
       "      <td>0</td>\n",
       "      <td>0.00</td>\n",
       "      <td>11/30/2022</td>\n",
       "      <td>0</td>\n",
       "      <td>0</td>\n",
       "      <td>0</td>\n",
       "      <td>0</td>\n",
       "      <td>06/30/2020</td>\n",
       "      <td>11/30/2024</td>\n",
       "      <td>POINT (-91.669808 41.978122)</td>\n",
       "    </tr>\n",
       "  </tbody>\n",
       "</table>\n",
       "<p>5 rows × 34 columns</p>\n",
       "</div>"
      ],
      "text/plain": [
       "               Company Name    County             City              Status  \\\n",
       "0             Siculus, Inc.      Polk          Altoona  Performance Period   \n",
       "1         INTL FCStone Inc.      Polk  West Des Moines  Maintenance Period   \n",
       "2           GELITA USA Inc.  Woodbury   Sergeant Bluff  Performance Period   \n",
       "3   Express Logistics, Inc.    Dallas           Waukee  Performance Period   \n",
       "4  Worley Warehousing, Inc.      Linn     Cedar Rapids  Performance Period   \n",
       "\n",
       "                     Program Primary Funding Agreement  Award Date  \\\n",
       "0  High Quality Jobs Program              19-HQJTC-025  05/17/2019   \n",
       "1  High Quality Jobs Program              16-HQJDF-027  12/18/2015   \n",
       "2  High Quality Jobs Program              17-HQJDF-023  11/18/2016   \n",
       "3  High Quality Jobs Program              15-HQJDF-004  08/22/2014   \n",
       "4  High Quality Jobs Program              20-HQJTC-011  11/22/2019   \n",
       "\n",
       "   Total Project Cost  Capital Investment  Direct Assistance Awarded  ...  \\\n",
       "0           400000000           400000000                          0  ...   \n",
       "1             3000000             1400000                     200000  ...   \n",
       "2            22095000            22065000                     105000  ...   \n",
       "3             1158300             1128300                     130000  ...   \n",
       "4             8339000             3850000                          0  ...   \n",
       "\n",
       "   Project Completion Jobs - Total  Verified Total Project Cost  \\\n",
       "0                                0                         0.00   \n",
       "1                               26                  19423489.00   \n",
       "2                                0                         0.00   \n",
       "3                                0                         0.00   \n",
       "4                                0                         0.00   \n",
       "\n",
       "   Project Completion Date  Reported Jobs - Created  Reported Jobs - Retained  \\\n",
       "0               05/31/2022                        0                         0   \n",
       "1               12/31/2018                        0                         0   \n",
       "2               11/30/2019                        0                         0   \n",
       "3               11/30/2019                        0                         0   \n",
       "4               11/30/2022                        0                         0   \n",
       "\n",
       "   Reported Jobs - Other Created  Reported Jobs - Total  Date Reported  \\\n",
       "0                              0                      0     06/30/2020   \n",
       "1                              0                      0     06/30/2020   \n",
       "2                              0                      0     06/30/2020   \n",
       "3                              0                      0     06/30/2020   \n",
       "4                              0                      0     06/30/2020   \n",
       "\n",
       "   Project Maintenance Date              City Coordinates  \n",
       "0                05/31/2024   POINT (-93.464609 41.64404)  \n",
       "1                12/31/2020  POINT (-93.713031 41.575505)  \n",
       "2                11/30/2021  POINT (-96.363068 42.400299)  \n",
       "3                11/30/2021  POINT (-93.885632 41.611984)  \n",
       "4                11/30/2024  POINT (-91.669808 41.978122)  \n",
       "\n",
       "[5 rows x 34 columns]"
      ]
     },
     "execution_count": 5,
     "metadata": {},
     "output_type": "execute_result"
    }
   ],
   "source": [
    "df_wip.head()"
   ]
  },
  {
   "cell_type": "markdown",
   "id": "30c46b91",
   "metadata": {},
   "source": [
    "Note that there are different data sources for each item. Cancelled projects have 34 columns. Successful projects have 29. Projects still in progress also have 34."
   ]
  },
  {
   "cell_type": "markdown",
   "id": "d4ec222a",
   "metadata": {},
   "source": [
    "### Clean up Columns"
   ]
  },
  {
   "cell_type": "code",
   "execution_count": 6,
   "id": "f0ee8a2a",
   "metadata": {},
   "outputs": [],
   "source": [
    "#print(df_suc.columns)\n",
    "#print(df_can.columns)\n",
    "#print(df_wip.columns)"
   ]
  },
  {
   "cell_type": "code",
   "execution_count": 7,
   "id": "407752f6",
   "metadata": {},
   "outputs": [],
   "source": [
    "#Successful Projects\n",
    "df_suc.rename({'Company Name': 'company', 'County': 'county', 'City':'city', 'Status': 'status', 'Program':'program', 'Primary Funding Agreement':'primary_funding',\n",
    "              'Award Date':'award_date', 'Total Project Cost':'tot_project_cost', 'Capital Investment':'capital_investment',\n",
    "              'Direct Assistance Awarded':'direct_assistance_awarded','Tax Benefits Awarded':'tax_benefits_awarded',\n",
    "              'Projected Jobs - Created':'p_jobs_created', 'Projected Jobs - Retained':'p_jobs_retained', 'Projected Jobs - Other': 'p_jobs_other', 'Projected Jobs - Total': 'p_jobs_total',\n",
    "              'Projected Qualifying Wage': 'p_qualwage', 'Contracted Jobs - Created':'cont_jobs_created',\n",
    "              'Contracted Jobs - Retained':'cont_jobs_retained', 'Contracted Jobs - Other Created':'cont_jobs_othercreated',\n",
    "              'Contracted Jobs - Total':'cont_jobs_total', 'Contracted Qualifying Wage':'cont_qualwage',\n",
    "              'Verified Total Project Cost':'verified_total_project_cost', 'Project Completion Date':'project_completion_date',\n",
    "              'Final Jobs - Created':'final_jobs_created', 'Final Jobs - Retained':'final_jobs_retained',\n",
    "              'Final Jobs - Other Created':'final_jobs_other_created', 'Final Jobs - Total':'final_jobs_total',\n",
    "              'Project Maintenance Date':'project_maintenance_date', 'City Coordinates':'city_coordinates'}, axis=1, inplace=True)\n",
    "#print(df_suc.columns)"
   ]
  },
  {
   "cell_type": "code",
   "execution_count": 8,
   "id": "25057a3b",
   "metadata": {},
   "outputs": [],
   "source": [
    "#Cancelled/Failured Projects\n",
    "df_can.rename({'Company Name': 'company', 'County': 'county', 'City':'city', 'Status': 'status', 'Program':'program', 'Primary Funding Agreement':'primary_funding',\n",
    "              'Award Date':'award_date', 'Total Project Cost':'tot_project_cost', 'Capital Investment':'capital_investment',\n",
    "              'Direct Assistance Awarded':'direct_assistance_awarded','Tax Benefits Awarded':'tax_benefits_awarded',\n",
    "              'Projected Jobs - Created':'p_jobs_created', 'Projected Jobs - Retained':'p_jobs_retained', 'Projected Jobs - Other': 'p_jobs_other', 'Projected Jobs - Total': 'p_jobs_total',\n",
    "              'Projected Qualifying Wage': 'p_qualwage', 'Contracted Jobs - Created':'cont_jobs_created',\n",
    "              'Contracted Jobs - Retained':'cont_jobs_retained', 'Contracted Jobs - Other Created':'cont_jobs_othercreated',\n",
    "              'Contracted Jobs - Total':'cont_jobs_total', 'Contracted Qualifying Wage':'cont_qualwage',\n",
    "              #'Verified Total Project Cost':'verified_total_project_cost', 'Project Completion Date':'project_completion_date',\n",
    "              #'Final Jobs - Created':'final_jobs_created', 'Final Jobs - Retained':'final_jobs_retained',\n",
    "              #'Final Jobs - Other Created':'final_jobs_other_created', 'Final Jobs - Total':'final_jobs_total',\n",
    "              #'Project Maintenance Date':'project_maintenance_date',\n",
    "            'City Coordinates':'city_coordinates'}, axis=1, inplace=True)"
   ]
  },
  {
   "cell_type": "code",
   "execution_count": 9,
   "id": "8d229f58",
   "metadata": {},
   "outputs": [],
   "source": [
    "#In-Progress Projects\n",
    "#Note contacted qualifying wage instead of contracted\n",
    "df_wip.rename({'Company Name': 'company', 'County': 'county', 'City':'city', 'Status': 'status', 'Program':'program', 'Primary Funding Agreement':'primary_funding',\n",
    "              'Award Date':'award_date', 'Total Project Cost':'tot_project_cost', 'Capital Investment':'capital_investment',\n",
    "              'Direct Assistance Awarded':'direct_assistance_awarded','Tax Benefits Awarded':'tax_benefits_awarded',\n",
    "              'Projected Jobs - Created':'p_jobs_created', 'Projected Jobs - Retained':'p_jobs_retained', 'Projected Jobs - Other': 'p_jobs_other',\n",
    "              'Projected Jobs - Total': 'p_jobs_total',\n",
    "              'Projected Qualifying Wage': 'p_qualwage', 'Contracted Jobs - Created':'cont_jobs_created',\n",
    "              'Contracted Jobs - Retained':'cont_jobs_retained', 'Contracted Jobs - Other Created':'cont_jobs_othercreated',\n",
    "              'Contracted Jobs - Total':'cont_jobs_total', 'Contacted Qualifying Wage':'cont_qualwage',\n",
    "              'Verified Total Project Cost':'verified_total_project_cost', 'Project Completion Date':'project_completion_date',\n",
    "              'Final Jobs - Created':'final_jobs_created', 'Final Jobs - Retained':'final_jobs_retained',\n",
    "              'Final Jobs - Other Created':'final_jobs_other_created', 'Final Jobs - Total':'final_jobs_total',\n",
    "              'Project Maintenance Date':'project_maintenance_date', 'City Coordinates':'city_coordinates',\n",
    "              'Date Reported':'date_reported',\n",
    "              'Project Completion Jobs - Created':'end_of_project_completion_jobs_created',\n",
    "                'Project Completion Jobs - Retained':'end_of_project_completion_jobs_retained',\n",
    "                'Project Completion Jobs - Other Created':'end_of_project_completion_jobs_others_created',\n",
    "                'Project Completion Jobs - Total':'end_of_project_completion_jobs_total',\n",
    "                'Reported Jobs - Created':'reported_jobs_created',\n",
    "                'Reported Jobs - Retained':'reported_jobs_retained',\n",
    "                'Reported Jobs - Other Created':'reported_jobs_others_created',\n",
    "                'Reported Jobs - Total':'reported_jobs_total',\n",
    "}, axis=1, inplace=True)\n",
    "#print(df_wip.columns)"
   ]
  },
  {
   "cell_type": "markdown",
   "id": "78572e7a",
   "metadata": {
    "scrolled": true
   },
   "source": [
    "### Adding New Columns"
   ]
  },
  {
   "cell_type": "code",
   "execution_count": 10,
   "id": "5b89ed0b",
   "metadata": {},
   "outputs": [],
   "source": [
    "#Dropping columns\n",
    "#df_suc.drop(columns='success', inplace=True)\n",
    "#df_can.drop(columns='cancelled', inplace=True)\n",
    "#df_wip.drop(columns='in_progress', inplace=True)"
   ]
  },
  {
   "cell_type": "code",
   "execution_count": 11,
   "id": "bbd5e394",
   "metadata": {},
   "outputs": [],
   "source": [
    "# Adding new columns\n",
    "df_suc['project_type'] = '2' #Success = 2\n",
    "df_can['project_type'] = '0' #Cancelled = 0\n",
    "df_wip['project_type'] = '1' #WIP = 1"
   ]
  },
  {
   "cell_type": "markdown",
   "id": "3fd0d089",
   "metadata": {},
   "source": [
    "### Merging Columns Together\n",
    "We now merge the 3 columns with their corrected names into one dataframe. We have 41 columns (39 plus one Y/N for the type of project - successfully completed, cancelled or in progress) and 619 rows of data."
   ]
  },
  {
   "cell_type": "code",
   "execution_count": 12,
   "id": "220cd19c",
   "metadata": {},
   "outputs": [
    {
     "name": "stdout",
     "output_type": "stream",
     "text": [
      "Index(['company', 'county', 'city', 'status', 'program', 'primary_funding',\n",
      "       'award_date', 'tot_project_cost', 'capital_investment',\n",
      "       'direct_assistance_awarded', 'tax_benefits_awarded', 'p_jobs_created',\n",
      "       'p_jobs_retained', 'p_jobs_other', 'p_jobs_total', 'p_qualwage',\n",
      "       'cont_jobs_created', 'cont_jobs_retained', 'cont_jobs_othercreated',\n",
      "       'cont_jobs_total', 'cont_qualwage', 'verified_total_project_cost',\n",
      "       'project_completion_date', 'final_jobs_created', 'final_jobs_retained',\n",
      "       'final_jobs_other_created', 'final_jobs_total',\n",
      "       'project_maintenance_date', 'city_coordinates', 'project_type',\n",
      "       'end_of_project_completion_jobs_created',\n",
      "       'end_of_project_completion_jobs_retained',\n",
      "       'end_of_project_completion_jobs_others_created',\n",
      "       'end_of_project_completion_jobs_total', 'reported_jobs_created',\n",
      "       'reported_jobs_retained', 'reported_jobs_others_created',\n",
      "       'reported_jobs_total', 'date_reported'],\n",
      "      dtype='object')\n"
     ]
    }
   ],
   "source": [
    "df = pd.concat([df_suc, df_can, df_wip]).copy() #Merge the 3 dataframes together\n",
    "#print(df.values.base is df2.values.base)\n",
    "print(df.columns) #Looking for duplicates"
   ]
  },
  {
   "cell_type": "markdown",
   "id": "2474beb1",
   "metadata": {},
   "source": [
    "# Exploratory Data Analysis"
   ]
  },
  {
   "cell_type": "code",
   "execution_count": 13,
   "id": "834ee4e1",
   "metadata": {},
   "outputs": [
    {
     "name": "stdout",
     "output_type": "stream",
     "text": [
      "count       619.00\n",
      "mean     200176.81\n",
      "std      486738.05\n",
      "min           0.00\n",
      "25%           0.00\n",
      "50%           0.00\n",
      "75%      200000.00\n",
      "max     5000000.00\n",
      "Name: direct_assistance_awarded, dtype: float64\n"
     ]
    }
   ],
   "source": [
    "print((df['direct_assistance_awarded'].describe()))"
   ]
  },
  {
   "cell_type": "code",
   "execution_count": 14,
   "id": "4684ef0a",
   "metadata": {
    "scrolled": true
   },
   "outputs": [
    {
     "data": {
      "image/png": "[encoded data removed]",
      "text/plain": [
       "<Figure size 432x288 with 1 Axes>"
      ]
     },
     "metadata": {
      "needs_background": "light"
     },
     "output_type": "display_data"
    }
   ],
   "source": [
    " # Creating plot\n",
    "fig, ax = plt.subplots()\n",
    "plt.suptitle('')\n",
    "df.boxplot(column=['direct_assistance_awarded'], by='project_type', ax=ax)\n",
    "\n",
    "#Turn off scientific notation\n",
    "plt.ticklabel_format(style='plain', axis='y')\n",
    "\n",
    "#Show plot\n",
    "#plt.show() #Note with %matplotlib inline don't need this\n",
    "\n",
    "#df.boxplot(by =['project_type'], column =['direct_assistance_awarded'])"
   ]
  },
  {
   "cell_type": "markdown",
   "id": "c6331ec0",
   "metadata": {},
   "source": [
    "We see that there are a large number of 0 values in the dataset. This might be because many companies are provided tax incentives instead of direct cash assistance. Let's create a \"total assistance awarded\" which is the sum of the direct and tax columns."
   ]
  },
  {
   "cell_type": "code",
   "execution_count": 15,
   "id": "c68f5329",
   "metadata": {},
   "outputs": [],
   "source": [
    "df['total_assistance'] = (df['direct_assistance_awarded'] + df['tax_benefits_awarded'])"
   ]
  },
  {
   "cell_type": "markdown",
   "id": "71a8ec1e",
   "metadata": {},
   "source": [
    "Let's create a new plot looking at total_assistance created, and maybe a barchart showing the percentage of aid as a form of tax and direct assistance."
   ]
  },
  {
   "cell_type": "code",
   "execution_count": 16,
   "id": "de8423bf",
   "metadata": {},
   "outputs": [
    {
     "data": {
      "image/png": "[encoded data removed]",
      "text/plain": [
       "<Figure size 432x288 with 1 Axes>"
      ]
     },
     "metadata": {
      "needs_background": "light"
     },
     "output_type": "display_data"
    }
   ],
   "source": [
    "# Creating plot\n",
    "fig, ax = plt.subplots()\n",
    "plt.suptitle('')\n",
    "df.boxplot(column=['total_assistance'], by='project_type', ax=ax)\n",
    "\n",
    "plt.ticklabel_format(style='plain', axis='y') #Turn off scientiifc notation\n",
    "ticks_loc = ax.get_yticks().tolist()#to remove warning about Fixed Locator\n",
    "ax.yaxis.set_major_locator(mticker.FixedLocator(ticks_loc)) #to remove warning about Fixed Locator\n",
    "ax.set_yticklabels(['{:,}'.format(int(x)) for x in ax.get_yticks().tolist()]); #set ticks to 100,000\n",
    "#note that the semicolon above stops Jupyter from printing out the returned list value\n",
    "\n",
    "#Show plot\n",
    "#plt.show() #Matplotlib inline up top, don't need this line\n"
   ]
  },
  {
   "cell_type": "markdown",
   "id": "c9e7c29b",
   "metadata": {},
   "source": [
    "Whoops. An enormous outlier of 109 million! Let's take a look at that."
   ]
  },
  {
   "cell_type": "code",
   "execution_count": 17,
   "id": "d1f22227",
   "metadata": {},
   "outputs": [
    {
     "name": "stdout",
     "output_type": "stream",
     "text": [
      "company                                            Iowa Fertilizer Company LLC\n",
      "county                                                                     Lee\n",
      "city                                                                     Wever\n",
      "status                                           Closed Contracts - Successful\n",
      "program                                                         130% Component\n",
      "primary_funding                                                     12-130-021\n",
      "award_date                                                          02/17/2012\n",
      "tot_project_cost                                                    1750000000\n",
      "capital_investment                                                  1300000000\n",
      "direct_assistance_awarded                                              1610000\n",
      "tax_benefits_awarded                                                 107500000\n",
      "p_jobs_created                                                             159\n",
      "p_jobs_retained                                                              0\n",
      "p_jobs_other                                                                 6\n",
      "p_jobs_total                                                               165\n",
      "p_qualwage                                                               20.82\n",
      "cont_jobs_created                                                          165\n",
      "cont_jobs_retained                                                           0\n",
      "cont_jobs_othercreated                                                      15\n",
      "cont_jobs_total                                                            180\n",
      "cont_qualwage                                                            20.82\n",
      "verified_total_project_cost                                      2090185720.00\n",
      "project_completion_date                                             06/30/2016\n",
      "final_jobs_created                                                      165.00\n",
      "final_jobs_retained                                                       0.00\n",
      "final_jobs_other_created                                                 15.00\n",
      "final_jobs_total                                                        180.00\n",
      "project_maintenance_date                                            06/30/2018\n",
      "city_coordinates                                  POINT (-91.234058 40.710379)\n",
      "project_type                                                                 2\n",
      "end_of_project_completion_jobs_created                                     NaN\n",
      "end_of_project_completion_jobs_retained                                    NaN\n",
      "end_of_project_completion_jobs_others_created                              NaN\n",
      "end_of_project_completion_jobs_total                                       NaN\n",
      "reported_jobs_created                                                      NaN\n",
      "reported_jobs_retained                                                     NaN\n",
      "reported_jobs_others_created                                               NaN\n",
      "reported_jobs_total                                                        NaN\n",
      "date_reported                                                              NaN\n",
      "total_assistance                                                     109110000\n",
      "Name: 124, dtype: object\n"
     ]
    }
   ],
   "source": [
    "df_temp = df[df.total_assistance > 40000000]\n",
    "print(df_temp.iloc[0])"
   ]
  },
  {
   "cell_type": "markdown",
   "id": "7fa47706",
   "metadata": {},
   "source": [
    "So, it's a real project. And it got some criticism: https://www.desmoinesregister.com/story/money/2017/04/20/iowas-new-3-b-fertilizer-plant-worth-110-m-state-subsidies/305508001/ But it's in the success column, so that's good news.\n",
    "\n",
    "Let's remove that outlier (just temporarily) and plot it."
   ]
  },
  {
   "cell_type": "code",
   "execution_count": 18,
   "id": "36aa5dad",
   "metadata": {
    "scrolled": true
   },
   "outputs": [
    {
     "data": {
      "image/png": "[encoded data removed]",
      "text/plain": [
       "<Figure size 432x288 with 1 Axes>"
      ]
     },
     "metadata": {
      "needs_background": "light"
     },
     "output_type": "display_data"
    }
   ],
   "source": [
    "# Creating plot\n",
    "fig, ax = plt.subplots()\n",
    "plt.suptitle('')\n",
    "\n",
    "df_temp = df[df.total_assistance < 40000000]\n",
    "df_temp.boxplot(column=['total_assistance'], by='project_type', ax=ax)\n",
    "\n",
    "plt.ticklabel_format(style='plain', axis='y') #Turn off scientiifc notation\n",
    "ticks_loc = ax.get_yticks().tolist()#to remove warning about Fixed Locator\n",
    "ax.yaxis.set_major_locator(mticker.FixedLocator(ticks_loc)) #to remove warning about Fixed Locator\n",
    "ax.set_yticklabels(['{:,}'.format(int(x)) for x in ax.get_yticks().tolist()]); #set ticks to 100,000\n",
    "#Note that the semicolon prevents Jupyter from printing out the tick labels\n",
    "\n",
    "#Show plot\n",
    "#plt.show() #Matplotlib inline up top, don't need this"
   ]
  },
  {
   "cell_type": "markdown",
   "id": "a3b6a288",
   "metadata": {},
   "source": [
    "Still a lot of values way above our boxplot. Let's move on. We want to know what factors are relevant to the success of economic development projects. For that reason, we'll use the companies in the project_type = 2 (success) as the basis for success, project_type = 0 as the basis for failure, and the works in progress (project_type = 1) for prediction and evaluation of the model."
   ]
  },
  {
   "cell_type": "code",
   "execution_count": 19,
   "id": "a92d5e5b",
   "metadata": {},
   "outputs": [
    {
     "name": "stdout",
     "output_type": "stream",
     "text": [
      "Projects by Type\n",
      "1    260\n",
      "2    242\n",
      "0    117\n",
      "Name: project_type, dtype: int64\n"
     ]
    }
   ],
   "source": [
    "print('Projects by Type')\n",
    "print(df.project_type.value_counts()) #2 = Success, 1 = WIP, 0 = Failure"
   ]
  },
  {
   "cell_type": "markdown",
   "id": "bc80edaf",
   "metadata": {},
   "source": [
    "## Create an ID Column\n",
    "Before we go any further we need to create a test set of data to work on. We've got a good sense of the columns without getting too deep into our EDA. We'll create a unique identifier for each item in the dataset."
   ]
  },
  {
   "cell_type": "code",
   "execution_count": 20,
   "id": "1030aedc",
   "metadata": {},
   "outputs": [
    {
     "name": "stderr",
     "output_type": "stream",
     "text": [
      "C:\\Users\\Dustin MacDonald\\Anaconda3\\lib\\site-packages\\pandas\\core\\indexing.py:1732: SettingWithCopyWarning: \n",
      "A value is trying to be set on a copy of a slice from a DataFrame\n",
      "\n",
      "See the caveats in the documentation: https://pandas.pydata.org/pandas-docs/stable/user_guide/indexing.html#returning-a-view-versus-a-copy\n",
      "  self._setitem_single_block(indexer, value, name)\n"
     ]
    }
   ],
   "source": [
    "df = df.copy() #create copy of df\n",
    "df['ID'] = '' #add new column\n",
    "temp_index = 0\n",
    "for x in df:\n",
    "    #Create a string made up of Company + Award date (as a primary key)\n",
    "    temp_str = str(df['company'].iloc[temp_index] + df['award_date'].iloc[temp_index]).encode('utf-8')\n",
    "    #Turn that string into a hash\n",
    "    temp_hash = hashlib.md5(temp_str).hexdigest()\n",
    "    df['ID'].iloc[temp_index] = temp_hash\n",
    "    #Increment the loop\n",
    "    temp_index = temp_index + 1"
   ]
  },
  {
   "cell_type": "markdown",
   "id": "e5cfda44",
   "metadata": {},
   "source": [
    "## Create a Test Set"
   ]
  },
  {
   "cell_type": "markdown",
   "id": "9d321093",
   "metadata": {},
   "source": [
    "Now we can create our test set. The purpose of creating the unique identiifer for each item is so that we can add items that, alphabetically might show up in the middle of the list, without affecting our test set."
   ]
  },
  {
   "cell_type": "code",
   "execution_count": 21,
   "id": "7f214466",
   "metadata": {},
   "outputs": [],
   "source": [
    "#Create our X and y columns\n",
    "X = df.copy()\n",
    "X = X.drop(columns='project_type')\n",
    "y = df['project_type']\n",
    "\n",
    "X_train, X_test, y_train, y_test = train_test_split(X, y, test_size=0.2)\n",
    "#Remember to always work on the train set"
   ]
  },
  {
   "cell_type": "code",
   "execution_count": 22,
   "id": "72350be3",
   "metadata": {},
   "outputs": [],
   "source": [
    "df_copy = X_train.copy()"
   ]
  },
  {
   "cell_type": "code",
   "execution_count": 23,
   "id": "dceb3354",
   "metadata": {},
   "outputs": [
    {
     "data": {
      "text/plain": [
       "<AxesSubplot:xlabel='total_assistance', ylabel='final_jobs_total'>"
      ]
     },
     "execution_count": 23,
     "metadata": {},
     "output_type": "execute_result"
    },
    {
     "data": {
      "image/png": "[encoded data removed]",
      "text/plain": [
       "<Figure size 432x288 with 1 Axes>"
      ]
     },
     "metadata": {
      "needs_background": "light"
     },
     "output_type": "display_data"
    }
   ],
   "source": [
    "df_copy.plot(kind=\"scatter\", x=\"total_assistance\", y =\"final_jobs_total\")"
   ]
  },
  {
   "cell_type": "markdown",
   "id": "984d2167",
   "metadata": {},
   "source": [
    "Let's make a correlation matrix and look at it:"
   ]
  },
  {
   "cell_type": "code",
   "execution_count": 24,
   "id": "bdea26c8",
   "metadata": {},
   "outputs": [
    {
     "name": "stdout",
     "output_type": "stream",
     "text": [
      "final_jobs_total                                1.00\n",
      "cont_jobs_total                                 0.98\n",
      "p_jobs_total                                    0.97\n",
      "cont_jobs_created                               0.95\n",
      "final_jobs_created                              0.93\n",
      "p_jobs_created                                  0.90\n",
      "final_jobs_other_created                        0.89\n",
      "p_jobs_other                                    0.86\n",
      "direct_assistance_awarded                       0.28\n",
      "total_assistance                                0.26\n",
      "cont_jobs_retained                              0.26\n",
      "final_jobs_retained                             0.25\n",
      "tax_benefits_awarded                            0.25\n",
      "p_jobs_retained                                 0.24\n",
      "tot_project_cost                                0.18\n",
      "capital_investment                              0.17\n",
      "verified_total_project_cost                     0.15\n",
      "cont_jobs_othercreated                          0.07\n",
      "p_qualwage                                      0.03\n",
      "cont_qualwage                                   0.00\n",
      "end_of_project_completion_jobs_created           NaN\n",
      "end_of_project_completion_jobs_retained          NaN\n",
      "end_of_project_completion_jobs_others_created    NaN\n",
      "end_of_project_completion_jobs_total             NaN\n",
      "reported_jobs_created                            NaN\n",
      "reported_jobs_retained                           NaN\n",
      "reported_jobs_others_created                     NaN\n",
      "reported_jobs_total                              NaN\n",
      "Name: final_jobs_total, dtype: float64\n"
     ]
    }
   ],
   "source": [
    "corr_matrix = df_copy.corr()\n",
    "print(corr_matrix[\"final_jobs_total\"].sort_values(ascending=False))"
   ]
  },
  {
   "cell_type": "markdown",
   "id": "ba03573e",
   "metadata": {},
   "source": [
    "Jobs seem very highly correlated. What about costs?"
   ]
  },
  {
   "cell_type": "code",
   "execution_count": 25,
   "id": "899d69e4",
   "metadata": {},
   "outputs": [
    {
     "name": "stdout",
     "output_type": "stream",
     "text": [
      "tot_project_cost                                 1.00\n",
      "capital_investment                               0.99\n",
      "total_assistance                                 0.82\n",
      "tax_benefits_awarded                             0.82\n",
      "verified_total_project_cost                      0.79\n",
      "final_jobs_created                               0.27\n",
      "final_jobs_total                                 0.18\n",
      "p_jobs_created                                   0.18\n",
      "cont_jobs_total                                  0.15\n",
      "cont_jobs_created                                0.15\n",
      "p_jobs_total                                     0.14\n",
      "direct_assistance_awarded                        0.14\n",
      "p_qualwage                                       0.10\n",
      "cont_qualwage                                    0.09\n",
      "end_of_project_completion_jobs_created           0.07\n",
      "cont_jobs_retained                               0.06\n",
      "p_jobs_retained                                  0.06\n",
      "p_jobs_other                                     0.05\n",
      "cont_jobs_othercreated                           0.05\n",
      "final_jobs_other_created                         0.05\n",
      "end_of_project_completion_jobs_total             0.04\n",
      "final_jobs_retained                              0.03\n",
      "end_of_project_completion_jobs_others_created    0.00\n",
      "end_of_project_completion_jobs_retained         -0.02\n",
      "reported_jobs_others_created                    -0.02\n",
      "reported_jobs_total                             -0.03\n",
      "reported_jobs_created                           -0.03\n",
      "reported_jobs_retained                            NaN\n",
      "Name: tot_project_cost, dtype: float64\n"
     ]
    }
   ],
   "source": [
    "print(corr_matrix[\"tot_project_cost\"].sort_values(ascending=False))"
   ]
  },
  {
   "cell_type": "markdown",
   "id": "4f2fb7b3",
   "metadata": {},
   "source": [
    "Total cost correlates highly with benefits but only weakly with jobs created and direct asssitance. In fact, it seems a lot more tax benefits are likely awarded than direct assistance. Let's look at that."
   ]
  },
  {
   "cell_type": "code",
   "execution_count": 26,
   "id": "19cb4939",
   "metadata": {},
   "outputs": [
    {
     "data": {
      "image/png": "[encoded data removed]",
      "text/plain": [
       "<Figure size 2160x720 with 1 Axes>"
      ]
     },
     "metadata": {
      "needs_background": "light"
     },
     "output_type": "display_data"
    }
   ],
   "source": [
    "df_copy2 = df_copy.head(30)\n",
    "\n",
    "fig, ax = plt.subplots(figsize=[30,10])\n",
    "width = 0.9 #width of bars\n",
    "ax.bar(df_copy2[\"company\"], df_copy2[\"direct_assistance_awarded\"], width, label='Direct')\n",
    "ax.bar(df_copy2[\"company\"], df_copy2[\"tax_benefits_awarded\"], width, bottom=df_copy2[\"direct_assistance_awarded\"],\n",
    "       label='Tax')\n",
    "ax.set_title('Total Assistance Received By Company')\n",
    "ax.legend()\n",
    "plt.tight_layout()\n",
    "plt.xticks(rotation='vertical'); #Note semicolon to stop Jupyter from printing text\n",
    "#plt.show() #Not necessary because of %matplotlib inline above"
   ]
  },
  {
   "cell_type": "markdown",
   "id": "452c7c14",
   "metadata": {},
   "source": [
    "So we can see that even from this small sample size that the majority of aid that companies receive is in the form of tax incentives (orange bar) rather than direct assistance (blue bar). The exact company names in this small sample are not super relevant so I'm not concerned that they are in tiny print above."
   ]
  },
  {
   "cell_type": "markdown",
   "id": "10bbd999",
   "metadata": {},
   "source": [
    "## Hypothesis Development"
   ]
  },
  {
   "cell_type": "markdown",
   "id": "d927ba73",
   "metadata": {},
   "source": [
    "Let's develop our hypotheses.\n",
    "\n",
    "1. The higher the amount of capital investment relative to the total project cost, the more likely the project will be to succeed (H1)\n",
    "2. The more jobs to be retained relative to the total number of jobs, the more likely the project will be to succeed (H2)\n",
    "3. ~~The closer to the final budget the project is, the more likely the project will be to succeed~~ (H3)\n",
    "\n",
    "H3 will not be tested because we lack sufficient data.\n",
    "\n",
    "After we test these hypotheses on our existing data, we will attempt a Random Forest classification model."
   ]
  },
  {
   "cell_type": "markdown",
   "id": "470da7a3",
   "metadata": {},
   "source": [
    "## Testing Ideas"
   ]
  },
  {
   "cell_type": "markdown",
   "id": "7c987f25",
   "metadata": {},
   "source": [
    "In order to test Hypothesis 1, we will look at each project's amount of capital investment (capital_investment) as a percentage of total project cost (tot_project_cost) for projects that succeeded or were terminated. We will compare the means using the two-tailed t-test.\n",
    "\n",
    "**Hypothesis 1**\n",
    "   \n",
    "H0 - There will be no difference between the amount of capital investment in projects that succeed or not.\n",
    "\n",
    "H1 - Projects that succeed will have a larger percentage of their total assistance as capital assistance.\n",
    "\n"
   ]
  },
  {
   "cell_type": "code",
   "execution_count": 27,
   "id": "f8c7152f",
   "metadata": {},
   "outputs": [],
   "source": [
    "#Create new dataframe with just the fields we need\n",
    "h1_df = df.copy()\n",
    "h1_df = h1_df[['tot_project_cost','capital_investment', 'project_type']]"
   ]
  },
  {
   "cell_type": "markdown",
   "id": "298a8d98",
   "metadata": {},
   "source": [
    "Now we need a percentage of capital investment against total cost to use."
   ]
  },
  {
   "cell_type": "code",
   "execution_count": 28,
   "id": "b6e75449",
   "metadata": {},
   "outputs": [
    {
     "name": "stdout",
     "output_type": "stream",
     "text": [
      "   percent_cap project_type\n",
      "0         1.00            2\n",
      "1         1.00            2\n",
      "2         1.00            2\n",
      "3         1.00            2\n",
      "4         0.89            2\n"
     ]
    }
   ],
   "source": [
    "h1_df['percent_cap'] = (h1_df['capital_investment'] / h1_df['tot_project_cost'])\n",
    "\n",
    "#Note when I went to run the hypothesis later, I got an error that I couldn't run it on strings. I think my percent_cap\n",
    "#is actually a string.\n",
    "\n",
    "#print(h1_df.dtypes) #percent_cap is float, weird.\n",
    "#I figured this out. I was not running inplace=True.\n",
    "\n",
    "#while we're here, let's drop capital investment and total project cost\n",
    "h1_df = h1_df[['percent_cap', 'project_type']]\n",
    "print(h1_df.head()) #Just confirming we have two rows"
   ]
  },
  {
   "cell_type": "markdown",
   "id": "cb562d2f",
   "metadata": {},
   "source": [
    "Interesting that we have some projects that have 100% capital investment. Are tax incentives not captured in the total project cost? I'll want to revisit that."
   ]
  },
  {
   "cell_type": "code",
   "execution_count": 29,
   "id": "57efb85d",
   "metadata": {},
   "outputs": [],
   "source": [
    "#Next we need to split the df into our success and fail groups\n",
    "#gapminder_2002 = gapminder[gapminder['year']==2002]\n",
    "\n",
    "h1_df_success = h1_df.copy()\n",
    "h1_df_failure = h1_df.copy()"
   ]
  },
  {
   "cell_type": "code",
   "execution_count": 30,
   "id": "f50d5b73",
   "metadata": {},
   "outputs": [],
   "source": [
    "h1_df_success = h1_df[h1_df['project_type']=='2'] #Filter by success and failure\n",
    "h1_df_failure = h1_df[h1_df['project_type']=='0']\n",
    "h1_df_success = h1_df_success.dropna() #Drop missing values - make sure to revisit\n",
    "h1_df_failure = h1_df_failure.dropna()"
   ]
  },
  {
   "cell_type": "code",
   "execution_count": 31,
   "id": "74557cfd",
   "metadata": {},
   "outputs": [],
   "source": [
    "h1_df_success = h1_df_success.drop(columns='project_type') #Drop project type\n",
    "h1_df_failure = h1_df_failure.drop(columns='project_type') #Success!"
   ]
  },
  {
   "cell_type": "markdown",
   "id": "27c168d0",
   "metadata": {},
   "source": [
    "## Testing Variance"
   ]
  },
  {
   "cell_type": "code",
   "execution_count": 32,
   "id": "f1b127b0",
   "metadata": {},
   "outputs": [
    {
     "name": "stdout",
     "output_type": "stream",
     "text": [
      "(242, 1)\n",
      "(116, 1)\n",
      "Ratio Between Groups is =percent_cap   0.84\n",
      "dtype: float64\n"
     ]
    }
   ],
   "source": [
    "print(h1_df_success.shape)\n",
    "print(h1_df_failure.shape)\n",
    "\n",
    "# Testing Variance of Each Group\n",
    "var1 = np.var(h1_df_success) #Var1 is the bigger group\n",
    "var2 = np.var(h1_df_failure)\n",
    "\n",
    "print('Ratio Between Groups is =' + str(var1 / var2))\n",
    "\n",
    "#Because ratio is 0.84 (less than 4), we can assume population variance is equal"
   ]
  },
  {
   "cell_type": "code",
   "execution_count": 33,
   "id": "32ed3cc2",
   "metadata": {
    "scrolled": true
   },
   "outputs": [
    {
     "data": {
      "image/png": "[encoded data removed]",
      "text/plain": [
       "<Figure size 432x288 with 1 Axes>"
      ]
     },
     "metadata": {
      "needs_background": "light"
     },
     "output_type": "display_data"
    },
    {
     "data": {
      "image/png": "[encoded data removed]",
      "text/plain": [
       "<Figure size 432x288 with 1 Axes>"
      ]
     },
     "metadata": {
      "needs_background": "light"
     },
     "output_type": "display_data"
    }
   ],
   "source": [
    "# Check normality\n",
    "plt.hist(h1_df_success['percent_cap'])\n",
    "plt.show()\n",
    "\n",
    "plt.hist(h1_df_failure['percent_cap'])\n",
    "plt.show()\n",
    "\n",
    "#h1_df_success.drop(columns=['log_value'])\n",
    "#h1_df_failure.drop(columns=['log_value'])\n"
   ]
  },
  {
   "cell_type": "markdown",
   "id": "23aeeb3b",
   "metadata": {},
   "source": [
    "## Two Sample T-Test"
   ]
  },
  {
   "cell_type": "code",
   "execution_count": 34,
   "id": "4c723eea",
   "metadata": {},
   "outputs": [
    {
     "name": "stdout",
     "output_type": "stream",
     "text": [
      "percent_cap    float64\n",
      "dtype: object\n",
      "(242, 1)\n",
      "percent_cap    float64\n",
      "dtype: object\n",
      "(116, 1)\n",
      "Success Mean: 0.8068825103660526\n",
      "Failure Mean: 0.7468852043280245\n"
     ]
    }
   ],
   "source": [
    "#perform two sample t-test with equal variances\n",
    "print(h1_df_success.dtypes)\n",
    "print(h1_df_success.shape)\n",
    "print(h1_df_failure.dtypes)\n",
    "print(h1_df_failure.shape)\n",
    "\n",
    "print('Success Mean: ' + str(statistics.mean(h1_df_success['percent_cap'])))\n",
    "print('Failure Mean: ' + str(statistics.mean(h1_df_failure['percent_cap'])))"
   ]
  },
  {
   "cell_type": "code",
   "execution_count": 35,
   "id": "160b10a2",
   "metadata": {},
   "outputs": [
    {
     "data": {
      "text/plain": [
       "Ttest_indResult(statistic=array([1.70962482]), pvalue=array([0.08820666]))"
      ]
     },
     "execution_count": 35,
     "metadata": {},
     "output_type": "execute_result"
    }
   ],
   "source": [
    "stats.ttest_ind(a=h1_df_success, b=h1_df_failure, equal_var=True, nan_policy='omit')\n",
    "#Note, I need to count NaNs before I keep going, I added nan_policy to skip them but I might need to remove them\n",
    "#Update: turns out failure has NaNs in it, they have been removed"
   ]
  },
  {
   "cell_type": "markdown",
   "id": "b26eaac4",
   "metadata": {},
   "source": [
    "## Interpreting the T-Test Results"
   ]
  },
  {
   "cell_type": "markdown",
   "id": "6b8c0cf1",
   "metadata": {},
   "source": [
    "Test Statistic: 1.70962482\n",
    "\n",
    "p-value = 0.08820666\n",
    "\n",
    "Because the p-value is above our alpha value 0.05, we fail to reject the null hypothesis."
   ]
  },
  {
   "cell_type": "markdown",
   "id": "1991c48a",
   "metadata": {},
   "source": [
    "## Hypothesis 2"
   ]
  },
  {
   "cell_type": "markdown",
   "id": "2711bf6b",
   "metadata": {},
   "source": [
    "The more jobs to be retained relative to the total number of jobs, the more likely the project will be to succeed (H2)\n",
    "\n",
    "**Hypothesis 2**\n",
    "   \n",
    "H0 - There will be no difference between the percentage of retained jobs vs total jobs in projects that succeed or not.\n",
    "\n",
    "H1 - Projects that succeed will have a larger percentage of retained vs total jobs than in other projects.\n"
   ]
  },
  {
   "cell_type": "code",
   "execution_count": 36,
   "id": "1514ec74",
   "metadata": {},
   "outputs": [
    {
     "name": "stdout",
     "output_type": "stream",
     "text": [
      "True\n",
      "(224, 2)\n",
      "(111, 2)\n",
      "   percent_jobs project_type\n",
      "0          0.00            0\n",
      "1          0.00            0\n",
      "2          1.00            0\n",
      "3          0.00            0\n",
      "4          0.00            0\n"
     ]
    }
   ],
   "source": [
    "#Create new dataframe with just the fields we need\n",
    "h2_df = df.copy()\n",
    "h2_df = h2_df[['p_jobs_retained','p_jobs_total', 'project_type']]\n",
    "h2_df['percent_jobs'] = (h2_df['p_jobs_retained'] / h2_df['p_jobs_total'])\n",
    "h2_df = h2_df[['percent_jobs', 'project_type']]\n",
    "\n",
    "#Next we need to split the df into our success and fail groups\n",
    "\n",
    "h2_df_success = h2_df.copy()\n",
    "h2_df_failure = h2_df.copy()\n",
    "\n",
    "h2_df_success = h2_df[h2_df['project_type']=='2'] #Filter by success and failure\n",
    "h2_df_failure = h2_df[h2_df['project_type']=='0']\n",
    "\n",
    "print(isinstance(h2_df_failure, pd.DataFrame)) #Check if it's a df\n",
    "\n",
    "h2_df_success = h2_df_success.dropna() #Drop missing values - make sure to revisit\n",
    "h2_df_failure = h2_df_failure.dropna()\n",
    "\n",
    "print(h2_df_success.shape)\n",
    "print(h2_df_failure.shape)\n",
    "\n",
    "print(h2_df_failure.head()) #Just confirming we have two rows"
   ]
  },
  {
   "cell_type": "code",
   "execution_count": 37,
   "id": "fc88642d",
   "metadata": {},
   "outputs": [
    {
     "name": "stdout",
     "output_type": "stream",
     "text": [
      "0     0.00\n",
      "1     0.00\n",
      "2     1.00\n",
      "3     0.00\n",
      "4     0.00\n",
      "      ... \n",
      "112   0.00\n",
      "113   0.00\n",
      "114   0.00\n",
      "115   0.00\n",
      "116   0.00\n",
      "Name: percent_jobs, Length: 111, dtype: float64\n",
      "0.07249188363883853\n",
      "0.06437144369965743\n",
      "Ratio Between Groups is =1.1261497252892017\n"
     ]
    }
   ],
   "source": [
    "# Testing Variance of Each Group\n",
    "var1_h2 = np.var(h2_df_success['percent_jobs']) #Var1 is the bigger group\n",
    "var2_h2 = np.var(h2_df_failure['percent_jobs'])\n",
    "\n",
    "print(h2_df_failure['percent_jobs'])\n",
    "print(var1_h2)\n",
    "print(var2_h2)\n",
    "\n",
    "print('Ratio Between Groups is =' + str(var1_h2 / var2_h2))\n",
    "\n",
    "#Because ratio is 1.13 (less than 4), we can assume population variance is equal"
   ]
  },
  {
   "cell_type": "code",
   "execution_count": 38,
   "id": "63b9f4b9",
   "metadata": {
    "scrolled": true
   },
   "outputs": [
    {
     "name": "stdout",
     "output_type": "stream",
     "text": [
      "percent_jobs    float64\n",
      "project_type     object\n",
      "dtype: object\n",
      "(224, 2)\n",
      "percent_jobs    float64\n",
      "project_type     object\n",
      "dtype: object\n",
      "(111, 2)\n",
      "Success Mean: 0.11588431765003394\n",
      "Failure Mean: 0.08948986968796589\n"
     ]
    }
   ],
   "source": [
    "#perform two sample t-test with equal variances\n",
    "print(h2_df_success.dtypes)\n",
    "print(h2_df_success.shape)\n",
    "print(h2_df_failure.dtypes)\n",
    "print(h2_df_failure.shape)\n",
    "\n",
    "print('Success Mean: ' + str(statistics.mean(h2_df_success['percent_jobs'])))\n",
    "print('Failure Mean: ' + str(statistics.mean(h2_df_failure['percent_jobs'])))"
   ]
  },
  {
   "cell_type": "code",
   "execution_count": 39,
   "id": "98df4f36",
   "metadata": {
    "scrolled": true
   },
   "outputs": [
    {
     "name": "stdout",
     "output_type": "stream",
     "text": [
      "<class 'pandas.core.frame.DataFrame'>\n",
      "Int64Index: 224 entries, 0 to 241\n",
      "Data columns (total 1 columns):\n",
      " #   Column        Non-Null Count  Dtype  \n",
      "---  ------        --------------  -----  \n",
      " 0   percent_jobs  224 non-null    float64\n",
      "dtypes: float64(1)\n",
      "memory usage: 3.5 KB\n",
      "<class 'pandas.core.frame.DataFrame'>\n",
      "Int64Index: 111 entries, 0 to 116\n",
      "Data columns (total 1 columns):\n",
      " #   Column        Non-Null Count  Dtype  \n",
      "---  ------        --------------  -----  \n",
      " 0   percent_jobs  111 non-null    float64\n",
      "dtypes: float64(1)\n",
      "memory usage: 1.7 KB\n"
     ]
    }
   ],
   "source": [
    "h2_df_success.drop(columns=['project_type'], inplace=True)\n",
    "h2_df_failure.drop(columns=['project_type'], inplace=True)\n",
    "\n",
    "h2_df_success.info()\n",
    "h2_df_failure.info()"
   ]
  },
  {
   "cell_type": "code",
   "execution_count": 40,
   "id": "f561a11f",
   "metadata": {},
   "outputs": [
    {
     "data": {
      "image/png": "[encoded data removed]",
      "text/plain": [
       "<Figure size 432x288 with 1 Axes>"
      ]
     },
     "metadata": {
      "needs_background": "light"
     },
     "output_type": "display_data"
    },
    {
     "data": {
      "image/png": "[encoded data removed]",
      "text/plain": [
       "<Figure size 432x288 with 1 Axes>"
      ]
     },
     "metadata": {
      "needs_background": "light"
     },
     "output_type": "display_data"
    }
   ],
   "source": [
    "# Check normality\n",
    "plt.hist(h2_df_success)\n",
    "plt.show()\n",
    "\n",
    "plt.hist(h2_df_failure)\n",
    "plt.show()"
   ]
  },
  {
   "cell_type": "code",
   "execution_count": 41,
   "id": "9c59aa11",
   "metadata": {},
   "outputs": [
    {
     "data": {
      "text/plain": [
       "Ttest_indResult(statistic=array([0.85811176]), pvalue=array([0.39144796]))"
      ]
     },
     "execution_count": 41,
     "metadata": {},
     "output_type": "execute_result"
    }
   ],
   "source": [
    "stats.ttest_ind(a=h2_df_success, b=h2_df_failure, equal_var=True, nan_policy='omit')\n",
    "#Note, I need to count NaNs before I keep going, I added nan_policy to skip them but I might need to remove them"
   ]
  },
  {
   "cell_type": "markdown",
   "id": "a0278845",
   "metadata": {},
   "source": [
    "Test Statistic: 0.85811176\n",
    "\n",
    "p-value = 0.39144796\n",
    "\n",
    "Because the p-value is below our alpha value 0.05, we reject the null hypothesis.\n",
    "\n",
    "Projects that succeed have a larger percentage of retained vs total jobs than projects that do not."
   ]
  },
  {
   "cell_type": "markdown",
   "id": "762eb409",
   "metadata": {},
   "source": [
    "## Hypothesis 3"
   ]
  },
  {
   "cell_type": "markdown",
   "id": "bd037d45",
   "metadata": {},
   "source": [
    "Hypothesis 3 was going to be that the closer to the final budget the project is, the more likely the project will be to succeed, but unfortunately IEDA does not collect final budget data for projects that do not proceed."
   ]
  },
  {
   "cell_type": "markdown",
   "id": "b9f23b10",
   "metadata": {},
   "source": [
    "## Decision Tree"
   ]
  },
  {
   "cell_type": "code",
   "execution_count": 43,
   "id": "6315f60d",
   "metadata": {},
   "outputs": [
    {
     "name": "stdout",
     "output_type": "stream",
     "text": [
      "<class 'pandas.core.frame.DataFrame'>\n",
      "Int64Index: 619 entries, 0 to 259\n",
      "Data columns (total 41 columns):\n",
      " #   Column                                         Non-Null Count  Dtype  \n",
      "---  ------                                         --------------  -----  \n",
      " 0   company                                        619 non-null    object \n",
      " 1   county                                         619 non-null    object \n",
      " 2   city                                           619 non-null    object \n",
      " 3   status                                         619 non-null    object \n",
      " 4   program                                        619 non-null    object \n",
      " 5   primary_funding                                619 non-null    object \n",
      " 6   award_date                                     619 non-null    object \n",
      " 7   tot_project_cost                               619 non-null    int64  \n",
      " 8   capital_investment                             619 non-null    int64  \n",
      " 9   direct_assistance_awarded                      619 non-null    int64  \n",
      " 10  tax_benefits_awarded                           619 non-null    int64  \n",
      " 11  p_jobs_created                                 619 non-null    int64  \n",
      " 12  p_jobs_retained                                619 non-null    int64  \n",
      " 13  p_jobs_other                                   619 non-null    int64  \n",
      " 14  p_jobs_total                                   619 non-null    int64  \n",
      " 15  p_qualwage                                     619 non-null    float64\n",
      " 16  cont_jobs_created                              619 non-null    int64  \n",
      " 17  cont_jobs_retained                             619 non-null    int64  \n",
      " 18  cont_jobs_othercreated                         619 non-null    int64  \n",
      " 19  cont_jobs_total                                619 non-null    int64  \n",
      " 20  cont_qualwage                                  619 non-null    float64\n",
      " 21  verified_total_project_cost                    502 non-null    float64\n",
      " 22  project_completion_date                        502 non-null    object \n",
      " 23  final_jobs_created                             242 non-null    float64\n",
      " 24  final_jobs_retained                            242 non-null    float64\n",
      " 25  final_jobs_other_created                       242 non-null    float64\n",
      " 26  final_jobs_total                               242 non-null    float64\n",
      " 27  project_maintenance_date                       502 non-null    object \n",
      " 28  city_coordinates                               619 non-null    object \n",
      " 29  project_type                                   619 non-null    object \n",
      " 30  end_of_project_completion_jobs_created         260 non-null    float64\n",
      " 31  end_of_project_completion_jobs_retained        260 non-null    float64\n",
      " 32  end_of_project_completion_jobs_others_created  260 non-null    float64\n",
      " 33  end_of_project_completion_jobs_total           260 non-null    float64\n",
      " 34  reported_jobs_created                          260 non-null    float64\n",
      " 35  reported_jobs_retained                         260 non-null    float64\n",
      " 36  reported_jobs_others_created                   260 non-null    float64\n",
      " 37  reported_jobs_total                            260 non-null    float64\n",
      " 38  date_reported                                  260 non-null    object \n",
      " 39  total_assistance                               619 non-null    int64  \n",
      " 40  ID                                             619 non-null    object \n",
      "dtypes: float64(15), int64(13), object(13)\n",
      "memory usage: 203.1+ KB\n"
     ]
    }
   ],
   "source": [
    "from sklearn.tree import DecisionTreeClassifier\n",
    "\n",
    "#Create classifier and fit to data\n",
    "tree_clf = DecisionTreeClassifier()\n",
    "#tree_clf.fit(X, y)\n",
    "\n",
    "# create an object of the OneHotEncoder\n",
    "from sklearn.preprocessing import OneHotEncoder\n",
    "ohe = OneHotEncoder()\n",
    "\n",
    "# fit and transform and you will get the encoded data\n",
    "#df_ohe = ohe.fit_transform(df)\n",
    "\n",
    "#count nulls\n",
    "df.info()\n",
    "\n",
    "#drop project maintenance date sincce it's not needed.\n",
    "df.drop(columns='project_maintenance_date', inplace=True)"
   ]
  },
  {
   "cell_type": "code",
   "execution_count": null,
   "id": "f0779eb9",
   "metadata": {},
   "outputs": [],
   "source": [
    "h1_df"
   ]
  },
  {
   "cell_type": "code",
   "execution_count": null,
   "id": "c9713cd3",
   "metadata": {},
   "outputs": [],
   "source": []
  }
 ],
 "metadata": {
  "kernelspec": {
   "display_name": "Python 3 (ipykernel)",
   "language": "python",
   "name": "python3"
  },
  "language_info": {
   "codemirror_mode": {
    "name": "ipython",
    "version": 3
   },
   "file_extension": ".py",
   "mimetype": "text/x-python",
   "name": "python",
   "nbconvert_exporter": "python",
   "pygments_lexer": "ipython3",
   "version": "3.7.3"
  }
 },
 "nbformat": 4,
 "nbformat_minor": 5
}
